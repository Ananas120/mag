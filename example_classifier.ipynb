{
 "cells": [
  {
   "cell_type": "markdown",
   "metadata": {},
   "source": [
    "# Example MNIST classifier"
   ]
  },
  {
   "cell_type": "markdown",
   "metadata": {},
   "source": [
    "## Imports + model initialization\n",
    "\n",
    "For the 1st model initialization, you have to pass all required configuration asargument to the constructor. \n",
    "\n",
    "After this creation, you **do not need** to repass them all the time ! just call its constructor with `nom = model_name` and all configuration will be automatically loaded !"
   ]
  },
  {
   "cell_type": "code",
   "execution_count": 1,
   "metadata": {},
   "outputs": [],
   "source": [
    "import pandas as pd\n",
    "\n",
    "from utils import plot, plot_multiple, set_display_options\n",
    "from datasets import get_dataset, prepare_dataset, test_dataset_time\n",
    "from models.classification.base_classifier import BaseClassifier\n",
    "\n",
    "set_display_options()\n",
    "\n",
    "model_name = 'mnist_classifier'"
   ]
  },
  {
   "cell_type": "code",
   "execution_count": null,
   "metadata": {},
   "outputs": [],
   "source": [
    "input_shape = (28, 28, 1)\n",
    "model = BaseClassifier(input_shape, labels = list(range(10)), nom = model_name)\n",
    "\n",
    "print(model)"
   ]
  },
  {
   "cell_type": "markdown",
   "metadata": {},
   "source": [
    "## Model instanciation + dataset loading"
   ]
  },
  {
   "cell_type": "code",
   "execution_count": 3,
   "metadata": {},
   "outputs": [
    {
     "name": "stdout",
     "output_type": "stream",
     "text": [
      "Model restoration...\n",
      "Initializing submodel : classifier !\n",
      "Optimizer 'classifier_optimizer' initilized successfully !\n",
      "Submodel classifier compiled !\n",
      "  Loss : {'reduction': 'auto', 'name': 'sparse_categorical_crossentropy', 'from_logits': False}\n",
      "  Optimizer : {'name': 'Adam', 'learning_rate': 0.0010000000474974513, 'decay': 0.0, 'beta_1': 0.8999999761581421, 'beta_2': 0.9990000128746033, 'epsilon': 1e-07, 'amsgrad': False}\n",
      "  Metrics : [{'name': 'sparse_categorical_accuracy', 'dtype': 'float32'}]\n",
      "Successfully restored classifier from pretrained_models/mnist_classifier/saving/classifier.json !\n",
      "Model mnist_classifier initialized successfully !\n",
      "Model classifier is already compiled !\n",
      "\n",
      "========== mnist_classifier ==========\n",
      "Sub model classifier\n",
      "- Inputs \t: (None, 28, 28, 1)\n",
      "- Outputs \t: (None, 10)\n",
      "- Number of layers \t: 15\n",
      "- Number of parameters \t: 0.028 Millions\n",
      "- Optimizer \t: {'name': 'Adam', 'learning_rate': 0.0010000000474974513, 'decay': 0.0, 'beta_1': 0.8999999761581421, 'beta_2': 0.9990000128746033, 'epsilon': 1e-07, 'amsgrad': False}\n",
      "- Loss \t : {'reduction': 'auto', 'name': 'sparse_categorical_crossentropy', 'from_logits': False}\n",
      "- Metrics\t : [{'name': 'sparse_categorical_accuracy', 'dtype': 'float32'}]\n",
      "\n",
      "Already trained on 15 epochs (14070 steps)\n",
      "\n",
      "Labels : [0, 1, 2, 3, 4, 5, 6, 7, 8, 9]\n",
      "Multi-class : False\n",
      "\n",
      "\n",
      "========== Summary of classifier ==========\n",
      "\n",
      "Model: \"cnn_classifier\"\n",
      "_________________________________________________________________\n",
      "Layer (type)                 Output Shape              Param #   \n",
      "=================================================================\n",
      "conv_1 (Conv2D)              (None, 28, 28, 16)        160       \n",
      "_________________________________________________________________\n",
      "batch_normalization (BatchNo (None, 28, 28, 16)        64        \n",
      "_________________________________________________________________\n",
      "activation (Activation)      (None, 28, 28, 16)        0         \n",
      "_________________________________________________________________\n",
      "max_pooling2d (MaxPooling2D) (None, 14, 14, 16)        0         \n",
      "_________________________________________________________________\n",
      "dropout (Dropout)            (None, 14, 14, 16)        0         \n",
      "_________________________________________________________________\n",
      "conv_2 (Conv2D)              (None, 14, 14, 16)        2320      \n",
      "_________________________________________________________________\n",
      "batch_normalization_1 (Batch (None, 14, 14, 16)        64        \n",
      "_________________________________________________________________\n",
      "activation_1 (Activation)    (None, 14, 14, 16)        0         \n",
      "_________________________________________________________________\n",
      "max_pooling2d_1 (MaxPooling2 (None, 7, 7, 16)          0         \n",
      "_________________________________________________________________\n",
      "dropout_1 (Dropout)          (None, 7, 7, 16)          0         \n",
      "_________________________________________________________________\n",
      "flatten (Flatten)            (None, 784)               0         \n",
      "_________________________________________________________________\n",
      "dense (Dense)                (None, 32)                25120     \n",
      "_________________________________________________________________\n",
      "leaky_re_lu (LeakyReLU)      (None, 32)                0         \n",
      "_________________________________________________________________\n",
      "dropout_2 (Dropout)          (None, 32)                0         \n",
      "_________________________________________________________________\n",
      "classification_layer (Dense) (None, 10)                320       \n",
      "=================================================================\n",
      "Total params: 28,048\n",
      "Trainable params: 27,984\n",
      "Non-trainable params: 64\n",
      "_________________________________________________________________\n",
      "\n"
     ]
    }
   ],
   "source": [
    "model = BaseClassifier(nom = model_name)\n",
    "\n",
    "model.compile()\n",
    "\n",
    "print(model)\n",
    "model.summary()"
   ]
  },
  {
   "cell_type": "code",
   "execution_count": 7,
   "metadata": {},
   "outputs": [
    {
     "data": {
      "application/vnd.jupyter.widget-view+json": {
       "model_id": "1c9779b2076b4f1f8c6d549ab4afd191",
       "version_major": 2,
       "version_minor": 0
      },
      "text/plain": [
       "Dl Completed...: 0 url [00:00, ? url/s]"
      ]
     },
     "metadata": {},
     "output_type": "display_data"
    },
    {
     "data": {
      "application/vnd.jupyter.widget-view+json": {
       "model_id": "39c8bb853356408493377491e5358f4c",
       "version_major": 2,
       "version_minor": 0
      },
      "text/plain": [
       "Dl Size...: 0 MiB [00:00, ? MiB/s]"
      ]
     },
     "metadata": {},
     "output_type": "display_data"
    },
    {
     "data": {
      "application/vnd.jupyter.widget-view+json": {
       "model_id": "24ec7ecaac8045bfa0601a142e4453be",
       "version_major": 2,
       "version_minor": 0
      },
      "text/plain": [
       "Extraction completed...: 0 file [00:00, ? file/s]"
      ]
     },
     "metadata": {},
     "output_type": "display_data"
    },
    {
     "data": {
      "application/vnd.jupyter.widget-view+json": {
       "model_id": "",
       "version_major": 2,
       "version_minor": 0
      },
      "text/plain": [
       "Generating splits...:   0%|          | 0/2 [00:00<?, ? splits/s]"
      ]
     },
     "metadata": {},
     "output_type": "display_data"
    },
    {
     "data": {
      "application/vnd.jupyter.widget-view+json": {
       "model_id": "",
       "version_major": 2,
       "version_minor": 0
      },
      "text/plain": [
       "Generating train examples...: 0 examples [00:00, ? examples/s]"
      ]
     },
     "metadata": {},
     "output_type": "display_data"
    },
    {
     "data": {
      "application/vnd.jupyter.widget-view+json": {
       "model_id": "",
       "version_major": 2,
       "version_minor": 0
      },
      "text/plain": [
       "Shuffling mnist-train.tfrecord...:   0%|          | 0/60000 [00:00<?, ? examples/s]"
      ]
     },
     "metadata": {},
     "output_type": "display_data"
    },
    {
     "data": {
      "application/vnd.jupyter.widget-view+json": {
       "model_id": "",
       "version_major": 2,
       "version_minor": 0
      },
      "text/plain": [
       "Generating test examples...: 0 examples [00:00, ? examples/s]"
      ]
     },
     "metadata": {},
     "output_type": "display_data"
    },
    {
     "data": {
      "application/vnd.jupyter.widget-view+json": {
       "model_id": "",
       "version_major": 2,
       "version_minor": 0
      },
      "text/plain": [
       "Shuffling mnist-test.tfrecord...:   0%|          | 0/10000 [00:00<?, ? examples/s]"
      ]
     },
     "metadata": {},
     "output_type": "display_data"
    }
   ],
   "source": [
    "ds = get_dataset('mnist')\n",
    "\n",
    "train, valid = ds['train'], ds['test']\n",
    "print(train)\n",
    "print(valid)"
   ]
  },
  {
   "cell_type": "markdown",
   "metadata": {},
   "source": [
    "## Training + history analysis"
   ]
  },
  {
   "cell_type": "code",
   "execution_count": 4,
   "metadata": {},
   "outputs": [
    {
     "name": "stdout",
     "output_type": "stream",
     "text": [
      "Training config :\n",
      "HParams :\n",
      "- augment_prct\t: 0.25\n",
      "- epochs\t: 15\n",
      "- batch_size\t: 64\n",
      "- valid_batch_size\t: 32\n",
      "- test_batch_size\t: 1\n",
      "- verbose\t: 1\n",
      "- train_size\t: None\n",
      "- valid_size\t: None\n",
      "- test_size\t: 4\n",
      "- pred_step\t: -1\n",
      "- shuffle_size\t: 1024\n",
      "\n",
      "Epoch 11/15\n",
      "    938/Unknown - 6s 6ms/step - loss: 0.0612 - classifier_SparseCategoricalAccuracy: 0.9805\n",
      "Saving at epoch 10 !\n",
      "\n",
      "Making prediction at step 10318\n",
      "938/938 [==============================] - 11s 11ms/step - loss: 0.0612 - classifier_SparseCategoricalAccuracy: 0.9805 - val_loss: 0.0295 - val_classifier_SparseCategoricalAccuracy: 0.9903\n",
      "Epoch 12/15\n",
      "929/938 [============================>.] - ETA: 0s - loss: 0.0610 - classifier_SparseCategoricalAccuracy: 0.9804\n",
      "Saving at epoch 11 !\n",
      "\n",
      "Making prediction at step 11256\n",
      "938/938 [==============================] - 9s 9ms/step - loss: 0.0610 - classifier_SparseCategoricalAccuracy: 0.9804 - val_loss: 0.0276 - val_classifier_SparseCategoricalAccuracy: 0.9904\n",
      "Epoch 13/15\n",
      "934/938 [============================>.] - ETA: 0s - loss: 0.0588 - classifier_SparseCategoricalAccuracy: 0.9810\n",
      "Making prediction at step 12194\n",
      "938/938 [==============================] - 9s 9ms/step - loss: 0.0588 - classifier_SparseCategoricalAccuracy: 0.9810 - val_loss: 0.0298 - val_classifier_SparseCategoricalAccuracy: 0.9903\n",
      "Epoch 14/15\n",
      "933/938 [============================>.] - ETA: 0s - loss: 0.0576 - classifier_SparseCategoricalAccuracy: 0.9819\n",
      "Making prediction at step 13132\n",
      "938/938 [==============================] - 10s 10ms/step - loss: 0.0576 - classifier_SparseCategoricalAccuracy: 0.9819 - val_loss: 0.0281 - val_classifier_SparseCategoricalAccuracy: 0.9906\n",
      "Epoch 15/15\n",
      "935/938 [============================>.] - ETA: 0s - loss: 0.0548 - classifier_SparseCategoricalAccuracy: 0.9819 ETA: 0s - loss: 0.0549 - classifier_SparseCategoric\n",
      "Making prediction at step 14070\n",
      "938/938 [==============================] - 9s 9ms/step - loss: 0.0548 - classifier_SparseCategoricalAccuracy: 0.9819 - val_loss: 0.0293 - val_classifier_SparseCategoricalAccuracy: 0.9899\n",
      "Training lasted 49.691 sec !\n",
      "Submodel classifier saved in pretrained_models\\mnist_classifier\\saving\\classifier.json !\n"
     ]
    },
    {
     "data": {
      "text/plain": [
       "<custom_train_objects.history.History at 0x2f92b4fd940>"
      ]
     },
     "execution_count": 4,
     "metadata": {},
     "output_type": "execute_result"
    }
   ],
   "source": [
    "model.train(\n",
    "    train, validation_data = valid,\n",
    "    epochs = 5, batch_size = 64,\n",
    "    augment_prct = 0.25\n",
    ")"
   ]
  },
  {
   "cell_type": "code",
   "execution_count": 4,
   "metadata": {},
   "outputs": [
    {
     "name": "stdout",
     "output_type": "stream",
     "text": [
      "===== History =====\n",
      "    classifier_SparseCategoricalAccuracy      loss  val_classifier_SparseCategoricalAccuracy  \\\n",
      "0                               0.866050  0.417142                                    0.9737   \n",
      "1                               0.951250  0.157804                                    0.9817   \n",
      "2                               0.962067  0.125225                                    0.9833   \n",
      "3                               0.965467  0.112064                                    0.9857   \n",
      "4                               0.968950  0.101459                                    0.9865   \n",
      "5                               0.972283  0.091235                                    0.9887   \n",
      "6                               0.972883  0.088137                                    0.9878   \n",
      "7                               0.976117  0.079962                                    0.9888   \n",
      "8                               0.976467  0.076591                                    0.9895   \n",
      "9                               0.976767  0.075641                                    0.9899   \n",
      "10                              0.977383  0.072279                                    0.9893   \n",
      "11                              0.978350  0.069682                                    0.9894   \n",
      "12                              0.978483  0.068490                                    0.9890   \n",
      "13                              0.979717  0.065354                                    0.9899   \n",
      "14                              0.980717  0.062440                                    0.9908   \n",
      "\n",
      "    val_loss  \n",
      "0   0.086202  \n",
      "1   0.057187  \n",
      "2   0.048206  \n",
      "3   0.043618  \n",
      "4   0.041927  \n",
      "5   0.034993  \n",
      "6   0.034523  \n",
      "7   0.033432  \n",
      "8   0.033681  \n",
      "9   0.030273  \n",
      "10  0.031553  \n",
      "11  0.033247  \n",
      "12  0.030780  \n",
      "13  0.029373  \n",
      "14  0.028832  \n"
     ]
    },
    {
     "data": {
      "image/png": "[encoded data removed]",
      "text/plain": [
       "<Figure size 720x432 with 4 Axes>"
      ]
     },
     "metadata": {
      "needs_background": "dark"
     },
     "output_type": "display_data"
    }
   ],
   "source": [
    "print(model.history)\n",
    "model.plot_history()"
   ]
  },
  {
   "cell_type": "code",
   "execution_count": 5,
   "metadata": {},
   "outputs": [
    {
     "name": "stdout",
     "output_type": "stream",
     "text": [
      "Training config :\n",
      "   augment_prct  batch_size  epochs  pred_step  shuffle_size  test_batch_size  test_size  \\\n",
      "0          0.25          64      15         -1          1024                1          4   \n",
      "\n",
      "  train_size  valid_batch_size valid_size  verbose  \n",
      "0       None                32       None        1  \n",
      "\n",
      "Training informations :\n",
      "                   end  final_epoch  interrupted                start  start_epoch        time\n",
      "0  2021-04-04 11:25:03           14        False  2021-04-04 11:21:58           -1  185.806663\n"
     ]
    }
   ],
   "source": [
    "print(\"Training config :\")\n",
    "print(pd.DataFrame(model.history.trainings_config))\n",
    "print(\"\\nTraining informations :\")\n",
    "print(pd.DataFrame(model.history.trainings_infos))\n"
   ]
  },
  {
   "cell_type": "markdown",
   "metadata": {},
   "source": [
    "## Prediction"
   ]
  },
  {
   "cell_type": "code",
   "execution_count": 8,
   "metadata": {},
   "outputs": [
    {
     "data": {
      "image/png": "[encoded data removed]",
      "text/plain": [
       "<Figure size 432x288 with 1 Axes>"
      ]
     },
     "metadata": {
      "needs_background": "dark"
     },
     "output_type": "display_data"
    },
    {
     "data": {
      "image/png": "[encoded data removed]",
      "text/plain": [
       "<Figure size 432x288 with 1 Axes>"
      ]
     },
     "metadata": {
      "needs_background": "dark"
     },
     "output_type": "display_data"
    },
    {
     "data": {
      "image/png": "[encoded data removed]",
      "text/plain": [
       "<Figure size 432x288 with 1 Axes>"
      ]
     },
     "metadata": {
      "needs_background": "dark"
     },
     "output_type": "display_data"
    },
    {
     "data": {
      "image/png": "[encoded data removed]",
      "text/plain": [
       "<Figure size 432x288 with 1 Axes>"
      ]
     },
     "metadata": {
      "needs_background": "dark"
     },
     "output_type": "display_data"
    },
    {
     "data": {
      "image/png": "[encoded data removed]",
      "text/plain": [
       "<Figure size 432x288 with 1 Axes>"
      ]
     },
     "metadata": {
      "needs_background": "dark"
     },
     "output_type": "display_data"
    }
   ],
   "source": [
    "for i, data in enumerate(valid):\n",
    "    if i >= 5: break\n",
    "    image, label = data['image'], data['label']\n",
    "    \n",
    "    pred, score = model.predict(image)[0]\n",
    "    plot(\n",
    "        image, title = 'Class : {}\\nPred : {} ({:.2f}%)'.format(label, pred, score * 100),\n",
    "        plot_type = 'imshow'\n",
    "    )"
   ]
  },
  {
   "cell_type": "markdown",
   "metadata": {},
   "source": [
    "## Test dataset performance\n",
    "\n",
    "These 3 lines allow you to debug your processing pipeline and test its performances"
   ]
  },
  {
   "cell_type": "code",
   "execution_count": 9,
   "metadata": {},
   "outputs": [
    {
     "name": "stdout",
     "output_type": "stream",
     "text": [
      "Original dataset : <PrefetchDataset shapes: {image: (28, 28, 1), label: ()}, types: {image: tf.uint8, label: tf.int64}>\n",
      "- Dataset after mapping : <ParallelMapDataset shapes: ((28, 28, 1), ()), types: (tf.float32, tf.int32)>\n",
      "- Dataset after batch : <BatchDataset shapes: ((None, 28, 28, 1), (None,)), types: (tf.float32, tf.int32)>\n"
     ]
    },
    {
     "name": "stderr",
     "output_type": "stream",
     "text": [
      "100%|███████████████████████████████████████████████████████████████████████████████| 469/469 [00:01<00:00, 435.30it/s]"
     ]
    },
    {
     "name": "stdout",
     "output_type": "stream",
     "text": [
      "\n",
      "469 batchs in 1.081 sec sec (433.694 batch / sec)\n",
      "Time estimated for all dataset (469 batch) : 56h 30min 2sec\n",
      "Batch infos : \n",
      "Element 0 : shape : (96, 28, 28, 1) - type : <dtype: 'float32'> - min : 0.000 - max : 1.000\n",
      "Element 1 : shape : (96,) - type : <dtype: 'int32'> - min : 0.000 - max : 9.000\n"
     ]
    },
    {
     "name": "stderr",
     "output_type": "stream",
     "text": [
      "\n"
     ]
    },
    {
     "data": {
      "text/plain": [
       "1.0814073085784912"
      ]
     },
     "execution_count": 9,
     "metadata": {},
     "output_type": "execute_result"
    }
   ],
   "source": [
    "config = model.get_dataset_config(is_validation = False, batch_size = 128)\n",
    "\n",
    "ds_train = prepare_dataset(train, ** config, debug = True)\n",
    "test_dataset_time(ds_train, steps = 1000)"
   ]
  },
  {
   "cell_type": "code",
   "execution_count": null,
   "metadata": {},
   "outputs": [],
   "source": []
  }
 ],
 "metadata": {
  "kernelspec": {
   "display_name": "Python 3",
   "language": "python",
   "name": "python3"
  },
  "language_info": {
   "codemirror_mode": {
    "name": "ipython",
    "version": 3
   },
   "file_extension": ".py",
   "mimetype": "text/x-python",
   "name": "python",
   "nbconvert_exporter": "python",
   "pygments_lexer": "ipython3",
   "version": "3.6.6"
  }
 },
 "nbformat": 4,
 "nbformat_minor": 4
}
